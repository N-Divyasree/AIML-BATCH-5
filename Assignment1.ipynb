{
  "nbformat": 4,
  "nbformat_minor": 0,
  "metadata": {
    "colab": {
      "provenance": [],
      "authorship_tag": "ABX9TyNctfCSzeZ9KX0VtjfNKpSE",
      "include_colab_link": true
    },
    "kernelspec": {
      "name": "python3",
      "display_name": "Python 3"
    },
    "language_info": {
      "name": "python"
    }
  },
  "cells": [
    {
      "cell_type": "markdown",
      "metadata": {
        "id": "view-in-github",
        "colab_type": "text"
      },
      "source": [
        "<a href=\"https://colab.research.google.com/github/N-Divyasree/AIML-BATCH-5/blob/main/Assignment1.ipynb\" target=\"_parent\"><img src=\"https://colab.research.google.com/assets/colab-badge.svg\" alt=\"Open In Colab\"/></a>"
      ]
    },
    {
      "cell_type": "markdown",
      "source": [],
      "metadata": {
        "id": "KjOQbkHTbiAg"
      }
    },
    {
      "cell_type": "markdown",
      "source": [
        "PART-01"
      ],
      "metadata": {
        "id": "DTdD5W-Me2mf"
      }
    },
    {
      "cell_type": "markdown",
      "source": [
        "1.list:"
      ],
      "metadata": {
        "id": "ZQjEng19cVp4"
      }
    },
    {
      "cell_type": "code",
      "execution_count": null,
      "metadata": {
        "colab": {
          "base_uri": "https://localhost:8080/"
        },
        "id": "L9WaCvVkPqWJ",
        "outputId": "41f01533-71a0-4892-d899-7c87892eb4ef"
      },
      "outputs": [
        {
          "output_type": "stream",
          "name": "stdout",
          "text": [
            "[1 2 3 4 5]\n"
          ]
        }
      ],
      "source": [
        "import numpy as np\n",
        "\n",
        "list = np.array([1, 2, 3, 4, 5])\n",
        "print(list)\n"
      ]
    },
    {
      "cell_type": "code",
      "source": [
        "import pandas as pd\n",
        "\n",
        "# Creating a DataFrame from a list\n",
        "data = {'Column1': [1, 2, 3, 4, 5],\n",
        "        'Column2': ['A', 'B', 'C', 'D', 'E']}\n",
        "df = pd.DataFrame(data)\n",
        "\n",
        "print(\"DataFrame:\")\n",
        "print(df)"
      ],
      "metadata": {
        "colab": {
          "base_uri": "https://localhost:8080/"
        },
        "id": "d9qde7elQFxh",
        "outputId": "277b8510-c5ac-4e97-f012-dbd5b8df58b5"
      },
      "execution_count": null,
      "outputs": [
        {
          "output_type": "stream",
          "name": "stdout",
          "text": [
            "DataFrame:\n",
            "   Column1 Column2\n",
            "0        1       A\n",
            "1        2       B\n",
            "2        3       C\n",
            "3        4       D\n",
            "4        5       E\n"
          ]
        }
      ]
    },
    {
      "cell_type": "markdown",
      "source": [],
      "metadata": {
        "id": "5CRSCMbTbgts"
      }
    },
    {
      "cell_type": "markdown",
      "source": [
        "2.Array:"
      ],
      "metadata": {
        "id": "9cW1NN0Scbjt"
      }
    },
    {
      "cell_type": "code",
      "source": [
        "import numpy as np\n",
        "\n",
        "# Creating a NumPy array from a list\n",
        "numpy_array = np.array([1, 2, 3, 4, 5])\n",
        "print(\"NumPy Array:\", numpy_array)\n"
      ],
      "metadata": {
        "colab": {
          "base_uri": "https://localhost:8080/"
        },
        "id": "10Cexf6fRB79",
        "outputId": "4ce416a8-3ed1-4b69-c32b-c7f4f3c1dd64"
      },
      "execution_count": null,
      "outputs": [
        {
          "output_type": "stream",
          "name": "stdout",
          "text": [
            "NumPy Array: [1 2 3 4 5]\n"
          ]
        }
      ]
    },
    {
      "cell_type": "code",
      "source": [],
      "metadata": {
        "id": "0V-j2b2eR6fG"
      },
      "execution_count": null,
      "outputs": []
    },
    {
      "cell_type": "code",
      "source": [
        "import pandas as pd\n",
        "\n",
        "# Creating a Pandas Series from a list\n",
        "data_list = [1, 2, 3, 4, 5]\n",
        "pandas_series = pd.Series(data_list)\n",
        "print(\"Pandas Series:\")\n",
        "print(pandas_series)\n"
      ],
      "metadata": {
        "colab": {
          "base_uri": "https://localhost:8080/"
        },
        "id": "SfRGV_91R5_l",
        "outputId": "68bf063d-53b4-4959-e100-1d3f2bbaec12"
      },
      "execution_count": null,
      "outputs": [
        {
          "output_type": "stream",
          "name": "stdout",
          "text": [
            "Pandas Series:\n",
            "0    1\n",
            "1    2\n",
            "2    3\n",
            "3    4\n",
            "4    5\n",
            "dtype: int64\n"
          ]
        }
      ]
    },
    {
      "cell_type": "code",
      "source": [
        "import numpy as np\n",
        "\n",
        "# Creating two NumPy arrays\n",
        "array1 = np.array([1, 2, 3, 4, 5])\n",
        "array2 = np.array([10, 20, 30, 40, 50])\n",
        "\n",
        "# Method 1: Using numpy.add()\n",
        "result_add = np.add(array1, array2)\n",
        "print(\"Result using numpy.add():\", result_add)\n",
        "\n",
        "# Method 2: Using the + operator\n",
        "result_operator = array1 + array2\n",
        "print(\"Result using + operator:\", result_operator)\n"
      ],
      "metadata": {
        "colab": {
          "base_uri": "https://localhost:8080/"
        },
        "id": "4vjrgStaTS4g",
        "outputId": "bd5ecfde-dea9-46d7-8168-b0560dea2408"
      },
      "execution_count": null,
      "outputs": [
        {
          "output_type": "stream",
          "name": "stdout",
          "text": [
            "Result using numpy.add(): [11 22 33 44 55]\n",
            "Result using + operator: [11 22 33 44 55]\n"
          ]
        }
      ]
    },
    {
      "cell_type": "markdown",
      "source": [
        "4.multiplication of two arrays"
      ],
      "metadata": {
        "id": "A8VwNxDvUOd0"
      }
    },
    {
      "cell_type": "code",
      "source": [
        "import numpy as np\n",
        "\n",
        "# Creating two NumPy arrays\n",
        "array1 = np.array([1, 2, 3, 4, 5])\n",
        "array2 = np.array([10, 20, 30, 40, 50])\n",
        "\n",
        "# Method 1: Using numpy.multiply()\n",
        "result_multiply = np.multiply(array1, array2)\n",
        "print(\"Result using numpy.multiply():\", result_multiply)\n",
        "\n",
        "# Method 2: Using the * operator\n",
        "result_operator = array1 * array2\n",
        "print(\"Result using * operator:\", result_operator)\n"
      ],
      "metadata": {
        "colab": {
          "base_uri": "https://localhost:8080/"
        },
        "id": "ysTE31AsUUu3",
        "outputId": "09897b3a-2446-413e-d64e-5be1bbbe0286"
      },
      "execution_count": null,
      "outputs": [
        {
          "output_type": "stream",
          "name": "stdout",
          "text": [
            "Result using numpy.multiply(): [ 10  40  90 160 250]\n",
            "Result using * operator: [ 10  40  90 160 250]\n"
          ]
        }
      ]
    },
    {
      "cell_type": "markdown",
      "source": [
        "4.divison of two arrays"
      ],
      "metadata": {
        "id": "L_6jVb2FU0oU"
      }
    },
    {
      "cell_type": "code",
      "source": [
        "import numpy as np\n",
        "\n",
        "# Creating two NumPy arrays\n",
        "array1 = np.array([10, 20, 30, 40, 50])\n",
        "array2 = np.array([2, 4, 5, 8, 10])\n",
        "\n",
        "# Method 1: Using numpy.divide()\n",
        "result_divide = np.divide(array1, array2)\n",
        "print(\"Result using numpy.divide():\", result_divide)\n",
        "\n",
        "# Method 2: Using the / operator\n",
        "result_operator = array1 / array2\n",
        "print(\"Result using / operator:\", result_operator)\n"
      ],
      "metadata": {
        "colab": {
          "base_uri": "https://localhost:8080/"
        },
        "id": "OK6JhcFYU4T1",
        "outputId": "9666b38a-d18f-4d95-de4b-aa24e3256003"
      },
      "execution_count": null,
      "outputs": [
        {
          "output_type": "stream",
          "name": "stdout",
          "text": [
            "Result using numpy.divide(): [5. 5. 6. 5. 5.]\n",
            "Result using / operator: [5. 5. 6. 5. 5.]\n"
          ]
        }
      ]
    },
    {
      "cell_type": "markdown",
      "source": [
        "6th"
      ],
      "metadata": {
        "id": "n3FTw2MFYJL0"
      }
    },
    {
      "cell_type": "code",
      "source": [
        "import numpy as np\n",
        "\n",
        "# Create a NumPy array\n",
        "my_array = np.array([1, 2, 3])\n",
        "\n",
        "# Compute sine using np.sin()\n",
        "result_sin = np.sin(my_array)\n",
        "\n",
        "# Compute natural logarithm using np.log()\n",
        "result_log = np.log(my_array)\n",
        "\n",
        "# Compute base-2 logarithm using np.log2()\n",
        "result_log2 = np.log2(my_array)\n",
        "\n",
        "# Compute exponential using np.exp()\n",
        "result_exp = np.exp(my_array)\n",
        "\n",
        "# Generate a textual output\n",
        "output_text = f\"NumPy Mathematical Functions:\\n\\n\"\n",
        "output_text += f\"Input Array: {my_array}\\n\\n\"\n",
        "output_text += f\"Sine Result: {result_sin}\\n\"\n",
        "output_text += f\"Natural Logarithm Result: {result_log}\\n\"\n",
        "output_text += f\"Base-2 Logarithm Result: {result_log2}\\n\"\n",
        "output_text += f\"Exponential Result: {result_exp}\"\n",
        "\n",
        "# Print the output\n",
        "print(output_text)"
      ],
      "metadata": {
        "colab": {
          "base_uri": "https://localhost:8080/"
        },
        "id": "Dz9j_IgbYK_M",
        "outputId": "66266f31-8ec3-4691-a84e-339dbc451951"
      },
      "execution_count": null,
      "outputs": [
        {
          "output_type": "stream",
          "name": "stdout",
          "text": [
            "NumPy Mathematical Functions:\n",
            "\n",
            "Input Array: [1 2 3]\n",
            "\n",
            "Sine Result: [0.84147098 0.90929743 0.14112001]\n",
            "Natural Logarithm Result: [0.         0.69314718 1.09861229]\n",
            "Base-2 Logarithm Result: [0.        1.        1.5849625]\n",
            "Exponential Result: [ 2.71828183  7.3890561  20.08553692]\n"
          ]
        }
      ]
    },
    {
      "cell_type": "markdown",
      "source": [
        "4.poweroff"
      ],
      "metadata": {
        "id": "H4uqYHiTYSYg"
      }
    },
    {
      "cell_type": "code",
      "source": [
        "import numpy as np\n",
        "array1 = np.array([2, 3, 4])\n",
        "array2 = np.array([3, 2, 1])\n",
        "result_array = np.power(array1, array2)\n",
        "output_text = f\"Power of Two Arrays:\\narray1 ** array2 in python\\n\\n\"\n",
        "output_text += f\"Array 1: {array1}\\n\"\n",
        "output_text += f\"Array 2: {array2}\\n\"\n",
        "output_text += f\"Result: {result_array}\"\n",
        "print(output_text)"
      ],
      "metadata": {
        "colab": {
          "base_uri": "https://localhost:8080/"
        },
        "id": "YfyHZAe9YZK6",
        "outputId": "8c3ea15b-4159-4542-84b2-443e3a99039c"
      },
      "execution_count": null,
      "outputs": [
        {
          "output_type": "stream",
          "name": "stdout",
          "text": [
            "Power of Two Arrays:\n",
            "array1 ** array2 in python\n",
            "\n",
            "Array 1: [2 3 4]\n",
            "Array 2: [3 2 1]\n",
            "Result: [8 9 4]\n"
          ]
        }
      ]
    },
    {
      "cell_type": "markdown",
      "source": [
        "3.type()\n"
      ],
      "metadata": {
        "id": "nuP0IWxDY8IJ"
      }
    },
    {
      "cell_type": "code",
      "source": [
        "list=[1,2,3,4,5]\n",
        "print(type(list))"
      ],
      "metadata": {
        "colab": {
          "base_uri": "https://localhost:8080/"
        },
        "id": "zs48txNHZMkg",
        "outputId": "d8e35d3c-b01c-49a7-d2bc-2159e80e382a"
      },
      "execution_count": null,
      "outputs": [
        {
          "output_type": "stream",
          "name": "stdout",
          "text": [
            "<class 'list'>\n"
          ]
        }
      ]
    },
    {
      "cell_type": "code",
      "source": [
        "a=True\n",
        "print(type(a))"
      ],
      "metadata": {
        "colab": {
          "base_uri": "https://localhost:8080/"
        },
        "id": "EVbjQbCJZZpc",
        "outputId": "44d4634f-a1db-40ed-b1aa-c81b34681d57"
      },
      "execution_count": null,
      "outputs": [
        {
          "output_type": "stream",
          "name": "stdout",
          "text": [
            "<class 'bool'>\n"
          ]
        }
      ]
    },
    {
      "cell_type": "code",
      "source": [
        "a=9.5\n",
        "print(type(a))"
      ],
      "metadata": {
        "colab": {
          "base_uri": "https://localhost:8080/"
        },
        "id": "13LjqRV4Ziny",
        "outputId": "295c3e37-43b3-4c31-ac53-fc61e5e7b6c8"
      },
      "execution_count": null,
      "outputs": [
        {
          "output_type": "stream",
          "name": "stdout",
          "text": [
            "<class 'float'>\n"
          ]
        }
      ]
    },
    {
      "cell_type": "code",
      "source": [
        "b='divya'\n",
        "print(type(b))"
      ],
      "metadata": {
        "colab": {
          "base_uri": "https://localhost:8080/"
        },
        "id": "uRq-Mi6YZ0X-",
        "outputId": "6f55d13d-d944-4c2f-8199-5412093f4c0f"
      },
      "execution_count": null,
      "outputs": [
        {
          "output_type": "stream",
          "name": "stdout",
          "text": [
            "<class 'str'>\n"
          ]
        }
      ]
    },
    {
      "cell_type": "code",
      "source": [
        "c=5\n",
        "print(type(c))"
      ],
      "metadata": {
        "colab": {
          "base_uri": "https://localhost:8080/"
        },
        "id": "0QqdrSmrZ6Jo",
        "outputId": "4d01ef23-ef65-4f0c-9474-76ec946798fe"
      },
      "execution_count": null,
      "outputs": [
        {
          "output_type": "stream",
          "name": "stdout",
          "text": [
            "<class 'int'>\n"
          ]
        }
      ]
    },
    {
      "cell_type": "code",
      "source": [],
      "metadata": {
        "id": "TNyuEJtlaB7T"
      },
      "execution_count": null,
      "outputs": []
    },
    {
      "cell_type": "markdown",
      "source": [
        "4th.Addition of two Arrays"
      ],
      "metadata": {
        "id": "Cbd-EwuneZMm"
      }
    },
    {
      "cell_type": "code",
      "source": [
        "import numpy as np\n",
        "array1 = np.array([1, 2, 3])\n",
        "array2 = np.array([4, 5, 6])\n",
        "result_array = array1 + array2\n",
        "output_text = f\"Addition of Two Arrays:\\narray1 + array2 in python\\n\\n\"\n",
        "output_text += f\"Array 1: {array1}\\n\"\n",
        "output_text += f\"Array 2: {array2}\\n\"\n",
        "output_text += f\"Result: {result_array}\"\n",
        "print(output_text)"
      ],
      "metadata": {
        "colab": {
          "base_uri": "https://localhost:8080/"
        },
        "id": "kDFgD-5Weg9i",
        "outputId": "5bddaa91-2f24-4162-b40c-59a97973eb72"
      },
      "execution_count": null,
      "outputs": [
        {
          "output_type": "stream",
          "name": "stdout",
          "text": [
            "Addition of Two Arrays:\n",
            "array1 + array2 in python\n",
            "\n",
            "Array 1: [1 2 3]\n",
            "Array 2: [4 5 6]\n",
            "Result: [5 7 9]\n"
          ]
        }
      ]
    },
    {
      "cell_type": "code",
      "source": [],
      "metadata": {
        "id": "Fi0Bn1ogegtq"
      },
      "execution_count": null,
      "outputs": []
    },
    {
      "cell_type": "markdown",
      "source": [
        "PART-02"
      ],
      "metadata": {
        "id": "flXJHI7we5VN"
      }
    },
    {
      "cell_type": "markdown",
      "source": [],
      "metadata": {
        "id": "ecYtYizMe8FT"
      }
    },
    {
      "cell_type": "markdown",
      "source": [
        "Ques1:"
      ],
      "metadata": {
        "id": "CSQlUGxmgQg9"
      }
    },
    {
      "cell_type": "code",
      "source": [
        "import pandas as pd\n",
        "\n",
        "# Define data\n",
        "people = ['kiran', 'arun', 'vijay', 'varun']\n",
        "age = [25, 30, 35, 40]\n",
        "height = [145, 151, 165, 173]\n",
        "weight = [45, 55, 65, 75]\n",
        "\n",
        "# Create DataFrame\n",
        "health_data = pd.DataFrame({'Person': people, 'Age': age, 'Height': height, 'Weight': weight})\n",
        "\n",
        "print(health_data)\n"
      ],
      "metadata": {
        "colab": {
          "base_uri": "https://localhost:8080/"
        },
        "id": "42RbsZeXfbP-",
        "outputId": "afbbfbdf-d795-47bc-b1ed-fce8cb56abea"
      },
      "execution_count": null,
      "outputs": [
        {
          "output_type": "stream",
          "name": "stdout",
          "text": [
            "  Person  Age  Height  Weight\n",
            "0  kiran   25     145      45\n",
            "1   arun   30     151      55\n",
            "2  vijay   35     165      65\n",
            "3  varun   40     173      75\n"
          ]
        }
      ]
    },
    {
      "cell_type": "markdown",
      "source": [
        "Ques2 to Ques5:"
      ],
      "metadata": {
        "id": "an_ZJGQegWVy"
      }
    },
    {
      "cell_type": "markdown",
      "source": [
        "Scatter plot:"
      ],
      "metadata": {
        "id": "N0xezrhug6ZL"
      }
    },
    {
      "cell_type": "code",
      "source": [
        "import matplotlib.pyplot as plt\n",
        "\n",
        "# Scatter plot\n",
        "plt.figure(figsize=(8, 6))\n",
        "plt.scatter(health_data['Age'], health_data['Height'], color='blue', label='Height')\n",
        "plt.scatter(health_data['Age'], health_data['Weight'], color='red', label='Weight')\n",
        "plt.title('Health Care Data - Scatter Plot')\n",
        "plt.xlabel('Age')\n",
        "plt.ylabel('Height/Weight')\n",
        "plt.legend()\n",
        "plt.grid(True)\n",
        "plt.show()\n"
      ],
      "metadata": {
        "colab": {
          "base_uri": "https://localhost:8080/",
          "height": 564
        },
        "id": "0YIvuGC9gzWu",
        "outputId": "12042247-a6dc-4566-aaf5-36c47641755a"
      },
      "execution_count": null,
      "outputs": [
        {
          "output_type": "display_data",
          "data": {
            "text/plain": [
              "<Figure size 800x600 with 1 Axes>"
            ],
            "image/png": "[encoded data removed]"
          },
          "metadata": {}
        }
      ]
    },
    {
      "cell_type": "code",
      "source": [],
      "metadata": {
        "id": "Fa1EyH0GgX1c"
      },
      "execution_count": null,
      "outputs": []
    },
    {
      "cell_type": "markdown",
      "source": [
        "Bar chat:"
      ],
      "metadata": {
        "id": "m-Ufs7rdg-_5"
      }
    },
    {
      "cell_type": "code",
      "source": [
        "# Bar chart\n",
        "plt.figure(figsize=(8, 6))\n",
        "bar_width = 0.35\n",
        "age_index = range(len(health_data))\n",
        "plt.bar(age_index, health_data['Height'], bar_width, color='blue', label='Height')\n",
        "plt.bar([i + bar_width for i in age_index], health_data['Weight'], bar_width, color='red', label='Weight')\n",
        "plt.xlabel('People')\n",
        "plt.ylabel('Height/Weight')\n",
        "plt.title('Health Care Data - Bar Chart')\n",
        "plt.xticks([i + bar_width / 2 for i in age_index], health_data['Person'])\n",
        "plt.legend()\n",
        "plt.show()\n"
      ],
      "metadata": {
        "colab": {
          "base_uri": "https://localhost:8080/",
          "height": 564
        },
        "id": "kw0JT-ZrhDYn",
        "outputId": "119b7e05-0386-45a6-b8b7-6b51e2adee31"
      },
      "execution_count": null,
      "outputs": [
        {
          "output_type": "display_data",
          "data": {
            "text/plain": [
              "<Figure size 800x600 with 1 Axes>"
            ],
            "image/png": "[encoded data removed]"
          },
          "metadata": {}
        }
      ]
    },
    {
      "cell_type": "markdown",
      "source": [],
      "metadata": {
        "id": "W86GTeMThH8Q"
      }
    },
    {
      "cell_type": "markdown",
      "source": [
        "histogram weight:"
      ],
      "metadata": {
        "id": "6qJ3qdV_iTZ-"
      }
    },
    {
      "cell_type": "code",
      "source": [
        "#for weight\n",
        "import matplotlib.pyplot as plt\n",
        "\n",
        "people = ['kiran', 'arun', 'vijay', 'varun']\n",
        "age = [25, 30, 35, 40, 45]\n",
        "weight=[45, 55, 65, 75]\n",
        "\n",
        "plt.figure(figsize=(5, 3))\n",
        "plt.hist(age[:-1], bins=age, weights=weight, edgecolor='black', alpha=0.7)\n",
        "plt.ylabel('weight')\n",
        "plt.grid(axis='y', linestyle='--', alpha=0.7)\n",
        "\n",
        "plt.show()"
      ],
      "metadata": {
        "colab": {
          "base_uri": "https://localhost:8080/",
          "height": 291
        },
        "id": "Bwmm1DPtiXb_",
        "outputId": "e60a77d5-af56-4b8b-e995-0d2098a84d3f"
      },
      "execution_count": null,
      "outputs": [
        {
          "output_type": "display_data",
          "data": {
            "text/plain": [
              "<Figure size 500x300 with 1 Axes>"
            ],
            "image/png": "[encoded data removed]"
          },
          "metadata": {}
        }
      ]
    },
    {
      "cell_type": "markdown",
      "source": [
        "histogram height:"
      ],
      "metadata": {
        "id": "CTk4YeI2ilN8"
      }
    },
    {
      "cell_type": "code",
      "source": [
        "#for heights\n",
        "import matplotlib.pyplot as plt\n",
        "\n",
        "people = ['kiran', 'arun', 'vijay', 'varun']\n",
        "age = [25, 30, 35, 40, 45]\n",
        "height = [145, 151, 165, 173]\n",
        "\n",
        "plt.figure(figsize=(5, 3))\n",
        "plt.hist(age[:-1], bins=age, weights=height, edgecolor='black', alpha=0.7)\n",
        "plt.ylabel('Height')\n",
        "plt.grid(axis='y', linestyle='--', alpha=0.7)\n",
        "\n",
        "plt.show()"
      ],
      "metadata": {
        "colab": {
          "base_uri": "https://localhost:8080/",
          "height": 291
        },
        "id": "ytU88C-fiq_x",
        "outputId": "e3d2be7b-ac07-4025-fa28-c8f66173a862"
      },
      "execution_count": null,
      "outputs": [
        {
          "output_type": "display_data",
          "data": {
            "text/plain": [
              "<Figure size 500x300 with 1 Axes>"
            ],
            "image/png": "[encoded data removed]"
          },
          "metadata": {}
        }
      ]
    }
  ]
}